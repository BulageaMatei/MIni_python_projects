{
 "cells": [
  {
   "cell_type": "code",
   "execution_count": 1,
   "id": "5d03f535-b14c-4704-b8b5-4df2c15ea517",
   "metadata": {},
   "outputs": [],
   "source": [
    "def reset():\n",
    "    MENU = {\n",
    "        \"espresso\": {\n",
    "            \"ingredients\": {\n",
    "                \"water\": 50,\n",
    "                \"coffee\": 18,\n",
    "            },\n",
    "            \"cost\": 1.5,\n",
    "        },\n",
    "        \"latte\": {\n",
    "            \"ingredients\": {\n",
    "                \"water\": 200,\n",
    "                \"milk\": 150,\n",
    "                \"coffee\": 24,\n",
    "            },\n",
    "            \"cost\": 2.5,\n",
    "        },\n",
    "        \"cappuccino\": {\n",
    "            \"ingredients\": {\n",
    "                \"water\": 250,\n",
    "                \"milk\": 100,\n",
    "                \"coffee\": 24,\n",
    "            },\n",
    "            \"cost\": 3.0,\n",
    "        }\n",
    "    }\n",
    "    \n",
    "    profit = 0\n",
    "    \n",
    "    resources = {\n",
    "        \"water\": 300,\n",
    "        \"milk\": 200,\n",
    "        \"coffee\": 100,\n",
    "    }\n",
    "\n",
    "    \n",
    "    return MENU, profit, resources\n",
    "    "
   ]
  },
  {
   "cell_type": "code",
   "execution_count": 5,
   "id": "b15cca14-c1ef-409b-8181-e0bdeceb5e12",
   "metadata": {},
   "outputs": [
    {
     "name": "stdin",
     "output_type": "stream",
     "text": [
      "What would you like? (espresso/latte/cappuccino):  report\n"
     ]
    },
    {
     "name": "stdout",
     "output_type": "stream",
     "text": [
      "water: 300\n",
      "milk: 200\n",
      "coffee: 100\n",
      "Money: $0\n"
     ]
    },
    {
     "name": "stdin",
     "output_type": "stream",
     "text": [
      "What would you like? (espresso/latte/cappuccino):  cappucino\n"
     ]
    },
    {
     "name": "stdout",
     "output_type": "stream",
     "text": [
      "Invalid selection. Please choose again.\n"
     ]
    },
    {
     "name": "stdin",
     "output_type": "stream",
     "text": [
      "What would you like? (espresso/latte/cappuccino):  cappuccino\n"
     ]
    },
    {
     "name": "stdout",
     "output_type": "stream",
     "text": [
      "Please insert coins.\n"
     ]
    },
    {
     "name": "stdin",
     "output_type": "stream",
     "text": [
      "How many quarters? 100\n",
      "How many dimes? 100\n",
      "How many nickles? 100\n",
      "How many pennies? 100\n"
     ]
    },
    {
     "name": "stdout",
     "output_type": "stream",
     "text": [
      "Here is $38.0 in change.\n"
     ]
    },
    {
     "name": "stdin",
     "output_type": "stream",
     "text": [
      "What would you like? (espresso/latte/cappuccino):  report\n"
     ]
    },
    {
     "name": "stdout",
     "output_type": "stream",
     "text": [
      "water: 50\n",
      "milk: 100\n",
      "coffee: 76\n",
      "Money: $3.0\n"
     ]
    },
    {
     "name": "stdin",
     "output_type": "stream",
     "text": [
      "What would you like? (espresso/latte/cappuccino):  cappucino\n"
     ]
    },
    {
     "name": "stdout",
     "output_type": "stream",
     "text": [
      "Invalid selection. Please choose again.\n"
     ]
    },
    {
     "name": "stdin",
     "output_type": "stream",
     "text": [
      "What would you like? (espresso/latte/cappuccino):  espresso\n"
     ]
    },
    {
     "name": "stdout",
     "output_type": "stream",
     "text": [
      "Please insert coins.\n"
     ]
    },
    {
     "name": "stdin",
     "output_type": "stream",
     "text": [
      "How many quarters? 100\n",
      "How many dimes? 100\n",
      "How many nickles? 10\n",
      "How many pennies? 1\n"
     ]
    },
    {
     "name": "stdout",
     "output_type": "stream",
     "text": [
      "Here is $34.01 in change.\n"
     ]
    },
    {
     "name": "stdin",
     "output_type": "stream",
     "text": [
      "What would you like? (espresso/latte/cappuccino):  report\n"
     ]
    },
    {
     "name": "stdout",
     "output_type": "stream",
     "text": [
      "water: 0\n",
      "milk: 100\n",
      "coffee: 58\n",
      "Money: $4.5\n"
     ]
    },
    {
     "name": "stdin",
     "output_type": "stream",
     "text": [
      "What would you like? (espresso/latte/cappuccino):  exit\n"
     ]
    }
   ],
   "source": [
    "def inventory_check(resources, profit):\n",
    "    for key in resources:\n",
    "        print(f\"{key}: {resources[key]}\")\n",
    "    print(f\"Money: ${profit}\")\n",
    "\n",
    "def quarters(number):\n",
    "    return 0.25 * number\n",
    "    \n",
    "def dimes(number):\n",
    "    return 0.10 * number\n",
    "    \n",
    "def nickles(number):\n",
    "    return 0.05 * number\n",
    "    \n",
    "def pennies(number):\n",
    "    return 0.01 * number\n",
    "\n",
    "def modify_resources_espresso(item, resources):\n",
    "    water = item[\"ingredients\"][\"water\"]\n",
    "    coffee = item[\"ingredients\"][\"coffee\"]\n",
    "\n",
    "    if (resources[\"water\"] >= water)  and (resources[\"coffee\"] >= coffee):\n",
    "        resources[\"water\"] -= water\n",
    "        resources[\"coffee\"] -= coffee\n",
    "    else:\n",
    "        print(\"Sorry there is not enough water.\")\n",
    "\n",
    "    return resources\n",
    "\n",
    "def modify_resources_rest(item, resources):\n",
    "    water  = item[\"ingredients\"][\"water\"]\n",
    "    milk   = item[\"ingredients\"][\"milk\"]\n",
    "    coffee = item[\"ingredients\"][\"coffee\"]\n",
    "\n",
    "    if (resources[\"water\"] >= water) and (resources[\"milk\"] >= milk) and (resources[\"coffee\"] >= coffee):\n",
    "        resources[\"water\"] -= water\n",
    "        resources[\"milk\"] -= milk\n",
    "        resources[\"coffee\"] -= coffee\n",
    "    else:\n",
    "        print(\"Sorry there are not enough resources.\")\n",
    "\n",
    "    return resources\n",
    "    \n",
    "\n",
    "def calcul(item, resources, is_espresso, profit):\n",
    "\n",
    "    if is_espresso == 1:\n",
    "        resources = modify_resources_espresso(item, resources)\n",
    "    else:\n",
    "        resources = modify_resources_rest(item, resources)\n",
    "    \n",
    "    print(\"Please insert coins.\")\n",
    "    quarter = quarters(int(input(\"How many quarters?\")))\n",
    "    dime    = dimes(int(input(\"How many dimes?\")))\n",
    "    nickle  = nickles(int(input(\"How many nickles?\")))\n",
    "    pennie  = pennies(int(input(\"How many pennies?\")))\n",
    "\n",
    "    total_sum_inserted = quarter + dime + nickle + pennie\n",
    "\n",
    "    price = item[\"cost\"]\n",
    "    \n",
    "    if price > total_sum_inserted:\n",
    "        print(\"Sorry that's not enouh money. Money refund\")\n",
    "    else:\n",
    "        rest = total_sum_inserted - price\n",
    "\n",
    "        profit += price\n",
    "        \n",
    "        print(f\"Here is ${round(rest,2)} in change.\")\n",
    "        \n",
    "\n",
    "    return resources, profit\n",
    "\n",
    "# Main program\n",
    "\n",
    "def main():\n",
    "    MENU, profit, resources = reset()\n",
    "    profit = 0\n",
    "    \n",
    "    while True:\n",
    "        start = input(\"What would you like? (espresso/latte/cappuccino): \").lower()\n",
    "        \n",
    "        if start == 'exit':\n",
    "            break\n",
    "            \n",
    "        if start == 'espresso':\n",
    "            resources, profit = calcul(MENU[start], resources, is_espresso=1, profit=profit)\n",
    "        elif start == 'latte':\n",
    "            resources, profit = calcul(MENU[start], resources, is_espresso=0, profit=profit)\n",
    "        elif start == 'cappuccino':\n",
    "            resources, profit = calcul(MENU[start], resources, is_espresso=0, profit=profit)\n",
    "        elif start == 'report':\n",
    "            inventory_check(resources, profit=profit)\n",
    "        else:\n",
    "            print(\"Invalid selection. Please choose again.\")\n",
    "            \n",
    "main()"
   ]
  }
 ],
 "metadata": {
  "kernelspec": {
   "display_name": "Python 3 (ipykernel)",
   "language": "python",
   "name": "python3"
  },
  "language_info": {
   "codemirror_mode": {
    "name": "ipython",
    "version": 3
   },
   "file_extension": ".py",
   "mimetype": "text/x-python",
   "name": "python",
   "nbconvert_exporter": "python",
   "pygments_lexer": "ipython3",
   "version": "3.10.13"
  }
 },
 "nbformat": 4,
 "nbformat_minor": 5
}
