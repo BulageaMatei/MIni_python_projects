{
 "cells": [
  {
   "cell_type": "code",
   "execution_count": 1,
   "id": "34d1165f-c4ef-4f58-8bce-38b5ff4e995e",
   "metadata": {},
   "outputs": [
    {
     "name": "stdout",
     "output_type": "stream",
     "text": [
      "Welcome to the Number Guessing Game!\n",
      "I'm thinking of a number between 1 and 100.\n"
     ]
    },
    {
     "name": "stdin",
     "output_type": "stream",
     "text": [
      "Choose a difficulty. Type 'easy' or 'hard': easy\n"
     ]
    },
    {
     "name": "stdout",
     "output_type": "stream",
     "text": [
      "You have 10 attempts remaining to guess the number.\n"
     ]
    },
    {
     "name": "stdin",
     "output_type": "stream",
     "text": [
      "Make a guess:  50\n"
     ]
    },
    {
     "name": "stdout",
     "output_type": "stream",
     "text": [
      "Too low.\n",
      "Guess again.\n",
      "You have 9 attempts remaining to guess the number.\n"
     ]
    },
    {
     "name": "stdin",
     "output_type": "stream",
     "text": [
      "Make a guess:  70\n"
     ]
    },
    {
     "name": "stdout",
     "output_type": "stream",
     "text": [
      "You got it! The answer was 70.\n"
     ]
    }
   ],
   "source": [
    "import random\n",
    "\n",
    "def pick(difficulty, attempts, number):\n",
    "    while attempts > 0:\n",
    "        print(f\"You have {attempts} attempts remaining to guess the number.\")\n",
    "        guess = int(input(\"Make a guess: \"))\n",
    "        \n",
    "        if guess < number:\n",
    "            print(\"Too low.\\nGuess again.\")\n",
    "        elif guess > number:\n",
    "            print(\"Too high.\\nGuess again.\")\n",
    "        else:\n",
    "            print(f\"You got it! The answer was {number}.\")\n",
    "            return \n",
    "        \n",
    "        attempts -= 1\n",
    "    \n",
    "    print(\"No more attempts! You lost.\")\n",
    "\n",
    "def game():\n",
    "    print(\"Welcome to the Number Guessing Game!\\nI'm thinking of a number between 1 and 100.\")\n",
    "    difficulty = input(\"Choose a difficulty. Type 'easy' or 'hard':\").lower()\n",
    "    \n",
    "    #Generate a number between 0 and 100\n",
    "    correct_number = random.randint(0,100)\n",
    "    \n",
    "    #Generate number of attempts with respect to difficulty\n",
    "    attempts = 10 if difficulty == 'easy' else 5\n",
    "    \n",
    "    #Play the game\n",
    "    pick(difficulty, attempts, correct_number)\n",
    "\n",
    "game()"
   ]
  }
 ],
 "metadata": {
  "kernelspec": {
   "display_name": "Python 3 (ipykernel)",
   "language": "python",
   "name": "python3"
  },
  "language_info": {
   "codemirror_mode": {
    "name": "ipython",
    "version": 3
   },
   "file_extension": ".py",
   "mimetype": "text/x-python",
   "name": "python",
   "nbconvert_exporter": "python",
   "pygments_lexer": "ipython3",
   "version": "3.10.13"
  }
 },
 "nbformat": 4,
 "nbformat_minor": 5
}
